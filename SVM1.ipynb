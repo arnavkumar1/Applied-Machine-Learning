{
 "cells": [
  {
   "cell_type": "code",
   "execution_count": 8,
   "metadata": {},
   "outputs": [],
   "source": [
    "from sklearn import svm\n",
    "from sklearn import metrics\n",
    "import pandas as pd\n",
    "import numpy as np\n",
    "from urllib.request import urlopen\n",
    "\n",
    "data = urlopen(\"http://www.amlbook.com/data/zip/features.train\")\n",
    "train = np.loadtxt(data)\n",
    "features=[]\n",
    "y_train=[]\n",
    "for i in range(len(train)):\n",
    "    if(train[i][0]==5.0 or train[i][0]==1.0):\n",
    "        features.append(train[i])\n",
    "X_train=[]\n",
    "for i in range(len(features)):\n",
    "    X_train.append(features[i][1:])\n",
    "for i in range(len(features)):\n",
    "    y_train.append(features[i][0])\n",
    "\n",
    "data1 = urlopen(\"http://www.amlbook.com/data/zip/features.test\")\n",
    "test = np.loadtxt(data1)\n",
    "testdata=[]\n",
    "for i in range(len(test)):\n",
    "    if(test[i][0]==5.0 or test[i][0]==1.0):\n",
    "        testdata.append(test[i])\n",
    "X_test=[]\n",
    "y_test=[]\n",
    "for i in range(len(testdata)):\n",
    "    y_test.append(testdata[i][0])\n",
    "for i in range(len(testdata)):\n",
    "    X_test.append(testdata[i][1:])"
   ]
  },
  {
   "cell_type": "code",
   "execution_count": 14,
   "metadata": {},
   "outputs": [
    {
     "name": "stdout",
     "output_type": "stream",
     "text": [
      "Accuracy: 0.9811320754716981\n"
     ]
    }
   ],
   "source": [
    "clf = svm.SVC(kernel='linear', C=1000)\n",
    "clf.fit(X_train,y_train)\n",
    "pred = clf.predict(X_test)\n",
    "print(\"Accuracy:\",metrics.accuracy_score(y_test, pred))\n",
    "#print (clf.n_support_)"
   ]
  },
  {
   "cell_type": "markdown",
   "metadata": {},
   "source": [
    "# Part B\n"
   ]
  },
  {
   "cell_type": "code",
   "execution_count": 12,
   "metadata": {},
   "outputs": [
    {
     "name": "stdout",
     "output_type": "stream",
     "text": [
      "Accuracy: 0.98\n",
      "[1 1]\n"
     ]
    }
   ],
   "source": [
    "clf = svm.SVC(kernel='linear')\n",
    "clf.fit(X_train[0:50],y_train[0:50])\n",
    "pred = clf.predict(X_test[0:50])\n",
    "print(\"Accuracy:\",metrics.accuracy_score(y_test[0:50], pred[0:50]))\n",
    "print (clf.n_support_)"
   ]
  },
  {
   "cell_type": "code",
   "execution_count": 14,
   "metadata": {},
   "outputs": [
    {
     "name": "stdout",
     "output_type": "stream",
     "text": [
      "Accuracy: 0.99\n",
      "[2 2]\n"
     ]
    }
   ],
   "source": [
    "clf = svm.SVC(kernel='linear')\n",
    "clf.fit(X_train[0:100],y_train[0:100])\n",
    "pred = clf.predict(X_test[0:100])\n",
    "print(\"Accuracy:\",metrics.accuracy_score(y_test[0:100], pred[0:100]))\n",
    "print (clf.n_support_)"
   ]
  },
  {
   "cell_type": "code",
   "execution_count": 5,
   "metadata": {},
   "outputs": [
    {
     "name": "stdout",
     "output_type": "stream",
     "text": [
      "Accuracy: 0.99\n",
      "[4 4]\n"
     ]
    }
   ],
   "source": [
    "clf = svm.SVC(kernel='linear')\n",
    "clf.fit(X_train[0:200],y_train[0:200])\n",
    "pred = clf.predict(X_test[0:200])\n",
    "print(\"Accuracy:\",metrics.accuracy_score(y_test[0:200], pred[0:200]))\n",
    "print (clf.n_support_)"
   ]
  },
  {
   "cell_type": "code",
   "execution_count": 6,
   "metadata": {},
   "outputs": [
    {
     "name": "stdout",
     "output_type": "stream",
     "text": [
      "Accuracy: 0.9811320754716981\n",
      "[7 7]\n"
     ]
    }
   ],
   "source": [
    "clf = svm.SVC(kernel='linear')\n",
    "clf.fit(X_train[0:800],y_train[0:800])\n",
    "pred = clf.predict(X_test[0:800])\n",
    "print(\"Accuracy:\",metrics.accuracy_score(y_test[0:800], pred[0:800]))\n",
    "print (clf.n_support_)"
   ]
  },
  {
   "cell_type": "markdown",
   "metadata": {},
   "source": [
    "# Part C\n",
    "1 - False  \n",
    "2 - True  \n",
    "3 - Training Error is Same  \n",
    "4 - True  "
   ]
  },
  {
   "cell_type": "code",
   "execution_count": 23,
   "metadata": {},
   "outputs": [
    {
     "name": "stdout",
     "output_type": "stream",
     "text": [
      "Accuracy: 0.9811320754716981\n",
      "[12 13]\n"
     ]
    }
   ],
   "source": [
    "clf = svm.SVC(kernel='poly',degree=2,C=1,gamma='auto')\n",
    "clf.fit(X_train,y_train)\n",
    "pred = clf.predict(X_test)\n",
    "print(\"Accuracy:\",metrics.accuracy_score(y_test, pred))\n",
    "print (clf.n_support_)"
   ]
  },
  {
   "cell_type": "markdown",
   "metadata": {},
   "source": [
    "# Part D\n",
    "C = 0.01, Train Error = 0.0038436899423446302 , Test Error = 0.021226415094339646  \n",
    "C = 1, Train Error = 0.004484304932735439 , Test Error = 0.021226415094339646   \n",
    "C = 100, Train Error = 0.0032030749519538215, Test Error = 0.018867924528301883  \n",
    "C = 10000, Train Error = 0.002562459961563124, Test Error = 0.018867924528301883  \n",
    "C = 1000000, Train Error = 0.0012812299807815064, Test Error = 0.021226415094339646  \n"
   ]
  },
  {
   "cell_type": "code",
   "execution_count": 7,
   "metadata": {},
   "outputs": [
    {
     "name": "stdout",
     "output_type": "stream",
     "text": [
      "Error: 0.002562459961563124\n",
      "[ 7 10]\n"
     ]
    }
   ],
   "source": [
    "clf = svm.SVC(kernel='rbf',C=10000,gamma='auto')\n",
    "clf.fit(X_train,y_train)\n",
    "pred = clf.predict(X_train)\n",
    "print(\"Error:\",1.0 - (metrics.accuracy_score(y_train, pred)))\n",
    "print (clf.n_support_)"
   ]
  }
 ],
 "metadata": {
  "kernelspec": {
   "display_name": "Python 3",
   "language": "python",
   "name": "python3"
  },
  "language_info": {
   "codemirror_mode": {
    "name": "ipython",
    "version": 3
   },
   "file_extension": ".py",
   "mimetype": "text/x-python",
   "name": "python",
   "nbconvert_exporter": "python",
   "pygments_lexer": "ipython3",
   "version": "3.7.1"
  }
 },
 "nbformat": 4,
 "nbformat_minor": 2
}
