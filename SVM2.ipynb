{
 "cells": [
  {
   "cell_type": "code",
   "execution_count": 2,
   "metadata": {},
   "outputs": [],
   "source": [
    "from sklearn import svm\n",
    "from sklearn import metrics\n",
    "import pandas as pd\n",
    "import numpy as np\n",
    "from urllib.request import urlopen\n",
    "\n",
    "\n",
    "df=pd.read_csv(\"gisette_train.data\",sep=' ',header=None)\n",
    "df = df[df.columns[:-1]]\n",
    "X_train=df.values\n",
    "\n"
   ]
  },
  {
   "cell_type": "code",
   "execution_count": 19,
   "metadata": {},
   "outputs": [],
   "source": [
    "dfy=pd.read_csv(\"gisette_train.labels\",header=None)\n",
    "y_train=dfy.values"
   ]
  },
  {
   "cell_type": "code",
   "execution_count": 15,
   "metadata": {},
   "outputs": [],
   "source": [
    "tf=pd.read_csv(\"gisette_valid.data\",sep=' ',header=None)\n",
    "tf = tf[tf.columns[:-1]]\n",
    "X_test=tf.values"
   ]
  },
  {
   "cell_type": "code",
   "execution_count": 22,
   "metadata": {},
   "outputs": [],
   "source": [
    "tfy=pd.read_csv(\"gisette_valid.labels\",header=None)\n",
    "y_test = tfy.values"
   ]
  },
  {
   "cell_type": "markdown",
   "metadata": {},
   "source": [
    "## Train Error = 0  \n",
    "Number of support Vectors = [542,542]"
   ]
  },
  {
   "cell_type": "code",
   "execution_count": 27,
   "metadata": {},
   "outputs": [
    {
     "name": "stdout",
     "output_type": "stream",
     "text": [
      "Accuracy: 1.0\n",
      "[542 542]\n"
     ]
    }
   ],
   "source": [
    "clf = svm.SVC(kernel='linear')\n",
    "clf.fit(X_train,y_train.ravel())\n",
    "pred = clf.predict(X_train)\n",
    "print(\"Error:\",1.0 - metrics.accuracy_score(y_train, pred))\n",
    "print (clf.n_support_)"
   ]
  },
  {
   "cell_type": "markdown",
   "metadata": {},
   "source": [
    "## Test Error = 0.024  \n",
    "Number of Support Vectors = [542,542]"
   ]
  },
  {
   "cell_type": "code",
   "execution_count": 29,
   "metadata": {
    "scrolled": true
   },
   "outputs": [
    {
     "name": "stdout",
     "output_type": "stream",
     "text": [
      "Error: 0.02400000000000002\n",
      "[542 542]\n"
     ]
    }
   ],
   "source": [
    "clf = svm.SVC(kernel='linear', C = 1000)\n",
    "clf.fit(X_train,y_train.ravel())\n",
    "pred = clf.predict(X_test)\n",
    "print(\"Error:\",1.0 - metrics.accuracy_score(y_test, pred))\n",
    "print (clf.n_support_)"
   ]
  },
  {
   "cell_type": "markdown",
   "metadata": {},
   "source": [
    "# Part B  \n",
    "  \n",
    "## Gaussian Kernel  \n",
    "Train Error =  0.0      \n",
    "Number of Support Vectors =  [3000,3000]  \n",
    "Test Error =   0.5  \n",
    "Number of Support Vectors =   [3000,3000]   \n",
    "  \n",
    "## Polynomial Kernel  \n",
    "Train Error = 0.0     \n",
    "Number of Support Vectors =  [817,938]  \n",
    "Test Error =   0.021  \n",
    "Number of Support Vectors =  [817,938]  "
   ]
  },
  {
   "cell_type": "code",
   "execution_count": 30,
   "metadata": {
    "scrolled": true
   },
   "outputs": [
    {
     "name": "stdout",
     "output_type": "stream",
     "text": [
      "Error: 0.0\n",
      "[3000 3000]\n"
     ]
    }
   ],
   "source": [
    "clf = svm.SVC(kernel='rbf',gamma=0.001)\n",
    "clf.fit(X_train,y_train.ravel())\n",
    "pred = clf.predict(X_train)\n",
    "print(\"Error:\",1.0 - metrics.accuracy_score(y_train, pred))\n",
    "print (clf.n_support_)"
   ]
  },
  {
   "cell_type": "code",
   "execution_count": 33,
   "metadata": {},
   "outputs": [
    {
     "name": "stdout",
     "output_type": "stream",
     "text": [
      "Error: 0.5\n",
      "[3000 3000]\n"
     ]
    }
   ],
   "source": [
    "clf = svm.SVC(kernel='rbf',gamma=0.001,C=10000)\n",
    "clf.fit(X_train,y_train.ravel())\n",
    "pred = clf.predict(X_test)\n",
    "print(\"Error:\",1.0 - metrics.accuracy_score(y_test, pred))\n",
    "print (clf.n_support_)\n"
   ]
  },
  {
   "cell_type": "code",
   "execution_count": null,
   "metadata": {},
   "outputs": [],
   "source": [
    "clf = svm.SVC(kernel='poly',degree=2,coef0=1)\n",
    "clf.fit(X_train,y_train.ravel())\n",
    "pred = clf.predict(X_train)\n",
    "print(\"Error:\",1.0 - metrics.accuracy_score(y_train, pred))\n",
    "print (clf.n_support_)"
   ]
  },
  {
   "cell_type": "code",
   "execution_count": null,
   "metadata": {},
   "outputs": [],
   "source": [
    "clf = svm.SVC(kernel='poly',degree=2,coef0=1)\n",
    "clf.fit(X_train,y_train.ravel())\n",
    "pred = clf.predict(X_test)\n",
    "print(\"Error:\",1.0 - metrics.accuracy_score(y_test, pred))\n",
    "print (clf.n_support_)"
   ]
  }
 ],
 "metadata": {
  "kernelspec": {
   "display_name": "Python 3",
   "language": "python",
   "name": "python3"
  },
  "language_info": {
   "codemirror_mode": {
    "name": "ipython",
    "version": 3
   },
   "file_extension": ".py",
   "mimetype": "text/x-python",
   "name": "python",
   "nbconvert_exporter": "python",
   "pygments_lexer": "ipython3",
   "version": "3.7.1"
  }
 },
 "nbformat": 4,
 "nbformat_minor": 2
}
