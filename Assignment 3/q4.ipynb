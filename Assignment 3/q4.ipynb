{
 "cells": [
  {
   "cell_type": "code",
   "execution_count": 11,
   "metadata": {},
   "outputs": [],
   "source": [
    "import pandas as pd\n",
    "import numpy as np\n",
    "from sklearn import ensemble\n",
    "from sklearn import datasets\n",
    "from sklearn.utils import shuffle\n",
    "from sklearn.metrics import mean_squared_error\n",
    "from sklearn.metrics import accuracy_score\n",
    "from sklearn.datasets import make_regression\n",
    "from numpy.linalg import inv\n",
    "from sklearn import preprocessing\n",
    "import xgboost as xgb\n",
    "\n",
    "\n"
   ]
  },
  {
   "cell_type": "code",
   "execution_count": 27,
   "metadata": {},
   "outputs": [],
   "source": [
    "train = pd.read_csv(\"train.csv\")\n",
    "\n",
    "train = train.drop(train[train['fare_amount']<0].index, axis=0)\n",
    "train = train.drop(train[train['passenger_count'] > 6].index, axis = 0)\n",
    "train = train.drop(((train[train['pickup_latitude']<-90])|(train[train['pickup_latitude']>90])).index, axis=0)\n",
    "train = train.drop(((train[train['pickup_longitude']<-180])|(train[train['pickup_longitude']>180])).index, axis=0)\n",
    "train = train.drop(((train[train['dropoff_latitude']<-90])|(train[train['dropoff_latitude']>90])).index, axis=0)\n",
    "train['pickup_datetime'] = pd.to_datetime(train.pickup_datetime)\n",
    "train['year'] = train.pickup_datetime.dt.year\n",
    "train['month'] = train.pickup_datetime.dt.month\n",
    "train['week'] = train.pickup_datetime.dt.week\n",
    "train['weekday'] = train.pickup_datetime.dt.weekday\n",
    "train['hour'] = train.pickup_datetime.dt.hour\n",
    "train.describe()\n",
    "X_train = train[['pickup_longitude','pickup_latitude','dropoff_longitude','dropoff_latitude','passenger_count','year','month','week','weekday','hour']]\n",
    "y_train = train['fare_amount']"
   ]
  },
  {
   "cell_type": "code",
   "execution_count": 28,
   "metadata": {},
   "outputs": [],
   "source": [
    "test = pd.read_csv(\"test.csv\", sep=',')\n",
    "test['pickup_datetime'] = pd.to_datetime(test.pickup_datetime)\n",
    "test['year'] = test.pickup_datetime.dt.year\n",
    "test['month'] = test.pickup_datetime.dt.month\n",
    "test['week'] = test.pickup_datetime.dt.week\n",
    "test['weekday'] = test.pickup_datetime.dt.weekday\n",
    "test['hour'] = test.pickup_datetime.dt.hour\n",
    "test.describe()\n",
    "key = test['key']\n",
    "key = pd.DataFrame(key)\n",
    "X_test = test[['pickup_longitude','pickup_latitude','dropoff_longitude','dropoff_latitude','passenger_count','year','month','week','weekday','hour']]\n"
   ]
  },
  {
   "cell_type": "code",
   "execution_count": 29,
   "metadata": {},
   "outputs": [
    {
     "name": "stderr",
     "output_type": "stream",
     "text": [
      "/home/arnav/anaconda3/lib/python3.7/site-packages/xgboost/core.py:587: FutureWarning: Series.base is deprecated and will be removed in a future version\n",
      "  if getattr(data, 'base', None) is not None and \\\n",
      "/home/arnav/anaconda3/lib/python3.7/site-packages/xgboost/core.py:588: FutureWarning: Series.base is deprecated and will be removed in a future version\n",
      "  data.base is not None and isinstance(data, np.ndarray) \\\n"
     ]
    }
   ],
   "source": [
    "reg = xgb.XGBRegressor(n_estimators=500)\n",
    "reg.fit(X_train,y_train)\n",
    "y_pred = reg.predict(X_test)\n",
    "y_pred = pd.DataFrame(y_pred)\n",
    "y_test = pd.concat([key,y_pred],axis=1)\n",
    "\n",
    "y_test.columns = y_test.columns.map(str)\n",
    "\n",
    "y_test = y_test.rename(index=str, columns={\"0\":\"fare_amount\"})\n",
    "y_test.to_csv(\"output.csv\",index=False)"
   ]
  },
  {
   "cell_type": "code",
   "execution_count": 30,
   "metadata": {},
   "outputs": [],
   "source": [
    "from sklearn.ensemble import RandomForestRegressor\n",
    "from sklearn.datasets import make_regression\n",
    "\n",
    "regr = RandomForestRegressor(n_estimators=500)\n",
    "regr.fit(X_train, y_train)\n",
    "y_pred = reg.predict(X_test)\n",
    "y_pred = pd.DataFrame(y_pred)\n",
    "y_test = pd.concat([key,y_pred],axis=1)\n",
    "\n",
    "y_test.columns = y_test.columns.map(str)\n",
    "\n",
    "y_test = y_test.rename(index=str, columns={\"0\":\"fare_amount\"})\n",
    "y_test.to_csv(\"output1.csv\",index=False)\n"
   ]
  }
 ],
 "metadata": {
  "kernelspec": {
   "display_name": "Python 3",
   "language": "python",
   "name": "python3"
  },
  "language_info": {
   "codemirror_mode": {
    "name": "ipython",
    "version": 3
   },
   "file_extension": ".py",
   "mimetype": "text/x-python",
   "name": "python",
   "nbconvert_exporter": "python",
   "pygments_lexer": "ipython3",
   "version": "3.7.1"
  }
 },
 "nbformat": 4,
 "nbformat_minor": 2
}
